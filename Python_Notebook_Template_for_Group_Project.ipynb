{
  "nbformat": 4,
  "nbformat_minor": 0,
  "metadata": {
    "colab": {
      "provenance": []
    },
    "kernelspec": {
      "name": "python3",
      "display_name": "Python 3"
    },
    "language_info": {
      "name": "python"
    }
  },
  "cells": [
    {
      "cell_type": "markdown",
      "source": [
        "# Title of Your Group Project\n",
        "\n",
        "This Python notebook serves as a template for your group project for the course \"Modeling in Cognitive Science\".\n",
        "\n",
        "This is the practical part of the group project where you get to implement the computational modeling workflow. In this part, you are expected to:\n",
        "\n",
        "\n",
        "*   Implement at least two computational models relevant for your hypothesis. *(3 points)*\n",
        "*   Simulate behavior from the two models. *(3 points)*\n",
        "*   Implement a procedure for fitting the models to data. *(4 points)*\n",
        "*   Implement a procedure for parameter recovery. *(5 points)*\n",
        "*   (Implement a procedure for model recovery.) *(optional; 2 bonus points)*\n",
        "*   Implement a model comparison. *(5 points)*.\n",
        "\n",
        "You can gain a total of 20 points for the practical part of the group project.\n",
        "\n",
        "**Note:** *Some of the exercises below (e.g. Model Simulation) rely on code from previous exercises (e.g., Model Implementation). In such cases, you are encouraged to rely on functions implemented for previous exercises. That is, you don't have to produce redundant code.*\n",
        "\n"
      ],
      "metadata": {
        "id": "K8D2mabhtCeh"
      }
    },
    {
      "cell_type": "markdown",
      "source": [
        "## Model Implementation *(3 points)*\n",
        "\n",
        "For this exercise you should:\n",
        "\n",
        "*   Implement and simulate data from two* models that are suitable to test your hypothesis. *(3 points)*\n",
        "\n",
        "<font size=2>*You may implement more than two models if you wish. However, two models are sufficient for this group project.</font>\n",
        "\n",
        "Make sure to comment your code and provide an explanation for each code block in a preceding text block.\n"
      ],
      "metadata": {
        "id": "HceMyA8DtIZ3"
      }
    },
    {
      "cell_type": "code",
      "source": [
        "# YOUR MODEL IMPLEMENTATION CODE GOES HERE"
      ],
      "metadata": {
        "id": "isMmbQsKwZ_z"
      },
      "execution_count": null,
      "outputs": []
    },
    {
      "cell_type": "markdown",
      "source": [
        "## Model Simulation *(3 points)*\n",
        "\n",
        "For this exercise you should:\n",
        "\n",
        "*   Simulate data from both models for a single set of parameters. The simulation should mimic the experiment you are trying to model. *(2 points)*\n",
        "\n",
        "*   Plot the simulated behavior of both models. *(1 point)*\n",
        "\n",
        "Make sure to comment your code and provide an explanation for each code block in a preceding text block.\n"
      ],
      "metadata": {
        "id": "twTHrAfL2PC_"
      }
    },
    {
      "cell_type": "code",
      "source": [
        "# YOUR MODEL SIMULATION CODE GOES HERE"
      ],
      "metadata": {
        "id": "XIk8efpKv-m-"
      },
      "execution_count": null,
      "outputs": []
    },
    {
      "cell_type": "markdown",
      "source": [
        "## Parameter Fitting *(4 points)*\n",
        "\n",
        "For this exercise you should:\n",
        "\n",
        "*   Set up a suitable parameter search space *(1 point)*\n",
        "\n",
        "*   Implement a procedure to evaluate the fit of a model based on data *(2 points)*\n",
        "\n",
        "*   Implement a procedure for searching the parameter space. *(1 point)*\n",
        "\n",
        "Make sure to comment your code and provide an explanation for each code block in a preceding text block.\n",
        "\n"
      ],
      "metadata": {
        "id": "2VxwTW9LwnvJ"
      }
    },
    {
      "cell_type": "code",
      "source": [
        "# YOUR PARAMETER FITTING CODE GOES HERE"
      ],
      "metadata": {
        "id": "K5OKVYszx7tQ"
      },
      "execution_count": null,
      "outputs": []
    },
    {
      "cell_type": "markdown",
      "source": [
        "## Parameter Recovery *(5 points)*\n",
        "\n",
        "For this exercise you should:\n",
        "\n",
        "*   Set up a suitable space of parameters relevant for parameter recovery *(1 point)*\n",
        "\n",
        "*   Use the functions above to generate behavior from a models, for a given set of (randomly sampled) parameters, and then fit the model to its generated data. Make sure to evaluate the parameter fit in a quantiative manner. *(3 points)*\n",
        "\n",
        "*   Plot the parameter recovery results for both models. *(1 point)*\n",
        "\n",
        "Make sure to comment your code and provide an explanation for each code block in a preceding text block.\n",
        "\n",
        "\n",
        "\n"
      ],
      "metadata": {
        "id": "ueZgrw_ByFsF"
      }
    },
    {
      "cell_type": "code",
      "source": [
        "# YOUR PARAMETER RECOVERY CODE GOES HERE"
      ],
      "metadata": {
        "id": "bLdarAD8yXwN"
      },
      "execution_count": null,
      "outputs": []
    },
    {
      "cell_type": "markdown",
      "source": [
        "## *Optional*: Model Recovery *(2 bonus points)*\n",
        "\n",
        "In this bonus exercise, you may examine model reovery. The bonus points count towards your total group project points. That is, you may accumlate up to 22 points in the practical part of the group project.\n",
        "\n",
        "Make sure to comment your code and provide an explanation for each code block in a preceding text block.\n",
        "\n",
        "\n",
        "\n"
      ],
      "metadata": {
        "id": "naQNlDBfzjnG"
      }
    },
    {
      "cell_type": "code",
      "source": [
        "# YOUR MODEL RECOVERY CODE GOES HERE"
      ],
      "metadata": {
        "id": "tIR51ujwziTM"
      },
      "execution_count": null,
      "outputs": []
    },
    {
      "cell_type": "markdown",
      "source": [
        "## Model Comparison *(5 points)*\n",
        "\n",
        "For this exercise you should:\n",
        "\n",
        "*   Load and (potentially) preprocess the experimental data. (1 point)\n",
        "\n",
        "*   Fit the two models to the data.  *(1 point)*\n",
        "\n",
        "*   Evaluate which model performs better, taking into account fit and model complexity. *(2 points)*\n",
        "\n",
        "*   Plot the behavior of the winning model against the data. *(1 point)**\n",
        "\n",
        "Make sure to comment your code and provide an explanation for each code block in a preceding text block.\n",
        "\n",
        "\n",
        "\n"
      ],
      "metadata": {
        "id": "-q4dfJ7O0BpW"
      }
    },
    {
      "cell_type": "code",
      "source": [
        "# YOUR MODEL COMPARISON CODE GOES HERE"
      ],
      "metadata": {
        "id": "8wAGI-kd1yRb"
      },
      "execution_count": null,
      "outputs": []
    }
  ]
}